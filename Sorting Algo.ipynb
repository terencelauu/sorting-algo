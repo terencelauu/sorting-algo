{
  "nbformat": 4,
  "nbformat_minor": 0,
  "metadata": {
    "colab": {
      "provenance": []
    },
    "kernelspec": {
      "name": "python3",
      "display_name": "Python 3"
    },
    "language_info": {
      "name": "python"
    }
  },
  "cells": [
    {
      "cell_type": "markdown",
      "source": [
        "# **1. Implement The Sorting Algorithm**"
      ],
      "metadata": {
        "id": "XWqWSRokKnHq"
      }
    },
    {
      "cell_type": "markdown",
      "source": [
        "**a. Radix Sort**"
      ],
      "metadata": {
        "id": "1kxgIn3NJsPF"
      }
    },
    {
      "cell_type": "code",
      "execution_count": null,
      "metadata": {
        "id": "2zVURcg4JhtN"
      },
      "outputs": [],
      "source": [
        "def counting_sort(arr, exp1):\n",
        "    n = len(arr)\n",
        "    output = [0] * n\n",
        "    count = [0] * 10\n",
        "\n",
        "    # Store count of occurrences in count[]\n",
        "    for i in range(0, n):\n",
        "        index = arr[i] // exp1\n",
        "        count[index % 10] += 1\n",
        "\n",
        "    # Change count[i] so that count[i] now contains actual position of this digit in output[]\n",
        "    for i in range(1, 10):\n",
        "        count[i] += count[i - 1]\n",
        "\n",
        "    # Build the output array\n",
        "    i = n - 1\n",
        "    while i >= 0:\n",
        "        index = arr[i] // exp1\n",
        "        output[count[index % 10] - 1] = arr[i]\n",
        "        count[index % 10] -= 1\n",
        "        i -= 1\n",
        "\n",
        "    # Copying the output array to arr[], so that arr now contains sorted numbers\n",
        "    for i in range(0, len(arr)):\n",
        "        arr[i] = output[i]\n",
        "\n",
        "def radix_sort(arr):\n",
        "    # Find the maximum number to know number of digits\n",
        "    max1 = max(arr)\n",
        "\n",
        "    # Do counting sort for every digit. Note that instead of passing digit number, exp is passed. exp is 10^i where i is current digit number\n",
        "    exp = 1\n",
        "    while max1 / exp > 1:\n",
        "        counting_sort(arr, exp)\n",
        "        exp *= 10"
      ]
    },
    {
      "cell_type": "markdown",
      "source": [
        "**b. Quicksort**"
      ],
      "metadata": {
        "id": "cFzXb7WEJ3Zi"
      }
    },
    {
      "cell_type": "code",
      "source": [
        "def quicksort(arr, low, high):\n",
        "    if low < high:\n",
        "        pi = partition(arr, low, high)\n",
        "\n",
        "        # Separately sort elements before partition and after partition\n",
        "        quicksort(arr, low, pi-1)\n",
        "        quicksort(arr, pi+1, high)\n",
        "\n",
        "def partition(arr, low, high):\n",
        "    i = (low-1)         # index of smaller element\n",
        "    pivot = arr[high]   # pivot\n",
        "\n",
        "    for j in range(low, high):\n",
        "        # If current element is smaller than or equal to pivot\n",
        "        if arr[j] <= pivot:\n",
        "            i = i+1\n",
        "            arr[i], arr[j] = arr[j], arr[i]\n",
        "\n",
        "    arr[i+1], arr[high] = arr[high], arr[i+1]\n",
        "    return (i+1)\n",
        "\n",
        "def quicksort_wrapper(arr):\n",
        "    def quicksort(arr, low, high):\n",
        "        if low < high:\n",
        "            pi = partition(arr, low, high)\n",
        "            quicksort(arr, low, pi - 1)\n",
        "            quicksort(arr, pi + 1, high)\n",
        "\n",
        "    def partition(arr, low, high):\n",
        "        pivot = arr[high]\n",
        "        i = low - 1\n",
        "        for j in range(low, high):\n",
        "            if arr[j] <= pivot:\n",
        "                i += 1\n",
        "                arr[i], arr[j] = arr[j], arr[i]\n",
        "        arr[i + 1], arr[high] = arr[high], arr[i + 1]\n",
        "        return i + 1\n",
        "\n",
        "    quicksort(arr, 0, len(arr) - 1)"
      ],
      "metadata": {
        "id": "rSik-glaJ7gW"
      },
      "execution_count": null,
      "outputs": []
    },
    {
      "cell_type": "markdown",
      "source": [
        "**c. Heapsort**"
      ],
      "metadata": {
        "id": "SlOn4_GGJ_1n"
      }
    },
    {
      "cell_type": "code",
      "source": [
        "def heapify(arr, n, i):\n",
        "    largest = i  # Initialize largest as root\n",
        "    l = 2 * i + 1  # left = 2*i + 1\n",
        "    r = 2 * i + 2  # right = 2*i + 2\n",
        "\n",
        "    # See if left child of root exists and is greater than root\n",
        "    if l < n and arr[i] < arr[l]:\n",
        "        largest = l\n",
        "\n",
        "    # See if right child of root exists and is greater than root\n",
        "    if r < n and arr[largest] < arr[r]:\n",
        "        largest = r\n",
        "\n",
        "    # Change root, if needed\n",
        "    if largest != i:\n",
        "        arr[i], arr[largest] = arr[largest], arr[i]  # swap\n",
        "\n",
        "        # Heapify the root.\n",
        "        heapify(arr, n, largest)\n",
        "\n",
        "def heapsort(arr):\n",
        "    n = len(arr)\n",
        "\n",
        "    # Build a maxheap.\n",
        "    for i in range(n//2 - 1, -1, -1):\n",
        "        heapify(arr, n, i)\n",
        "\n",
        "    # One by one extract elements\n",
        "    for i in range(n-1, 0, -1):\n",
        "        arr[i], arr[0] = arr[0], arr[i]  # swap\n",
        "        heapify(arr, i, 0)\n"
      ],
      "metadata": {
        "id": "97cpdeiMKGFL"
      },
      "execution_count": null,
      "outputs": []
    },
    {
      "cell_type": "markdown",
      "source": [
        "**d. Timsort**"
      ],
      "metadata": {
        "id": "d6ijHUFzKJiu"
      }
    },
    {
      "cell_type": "code",
      "source": [
        "MIN_MERGE = 32\n",
        "def calc_min_run(n):\n",
        "    \"\"\"Returns the minimum length of a run from 23 - 64 so that\n",
        "    the remaining array of size n becomes less than or equal to this value.\"\"\"\n",
        "    r = 0\n",
        "    while n >= MIN_MERGE:\n",
        "        r |= n & 1\n",
        "        n >>= 1\n",
        "    return n + r\n",
        "\n",
        "def insertion_sort(arr, left, right):\n",
        "    for i in range(left + 1, right + 1):\n",
        "        j = i\n",
        "        while j > left and arr[j] < arr[j - 1]:\n",
        "            arr[j], arr[j - 1] = arr[j - 1], arr[j]\n",
        "            j -= 1\n",
        "\n",
        "def merge(arr, l, m, r):\n",
        "    len1, len2 = m - l + 1, r - m\n",
        "    left, right = [], []\n",
        "    for i in range(0, len1):\n",
        "        left.append(arr[l + i])\n",
        "    for i in range(0, len2):\n",
        "        right.append(arr[m + 1 + i])\n",
        "\n",
        "    i, j, k = 0, 0, l\n",
        "    while i < len1 and j < len2:\n",
        "        if left[i] <= right[j]:\n",
        "            arr[k] = left[i]\n",
        "            i += 1\n",
        "        else:\n",
        "            arr[k] = right[j]\n",
        "            j += 1\n",
        "        k += 1\n",
        "\n",
        "    while i < len1:\n",
        "        arr[k] = left[i]\n",
        "        k += 1\n",
        "        i += 1\n",
        "\n",
        "    while j < len2:\n",
        "        arr[k] = right[j]\n",
        "        k += 1\n",
        "        j += 1\n",
        "\n",
        "def timsort(arr):\n",
        "    n = len(arr)\n",
        "    min_run = calc_min_run(n)\n",
        "\n",
        "    # Sort individual subarrays of size RUN\n",
        "    for start in range(0, n, min_run):\n",
        "        end = min(start + min_run - 1, n - 1)\n",
        "        insertion_sort(arr, start, end)\n",
        "\n",
        "    # Merge all subarrays of size RUN\n",
        "    size = min_run\n",
        "    while size < n:\n",
        "        for left in range(0, n, 2 * size):\n",
        "            mid = min(n - 1, left + size - 1)\n",
        "            right = min((left + 2 * size - 1), (n - 1))\n",
        "\n",
        "            # Merge the subarrays arr[left...mid] & arr[mid+1...right]\n",
        "            if mid < right:\n",
        "                merge(arr, left, mid, right)\n",
        "        size = 2 * size\n"
      ],
      "metadata": {
        "id": "mRAZ7ZrlKNIt"
      },
      "execution_count": null,
      "outputs": []
    },
    {
      "cell_type": "markdown",
      "source": [
        "**e. Bogosort**"
      ],
      "metadata": {
        "id": "LvX-1H8kKTH3"
      }
    },
    {
      "cell_type": "code",
      "source": [
        "import random\n",
        "\n",
        "def is_sorted(arr):\n",
        "    n = len(arr)\n",
        "    for i in range(0, n-1):\n",
        "        if arr[i] > arr[i+1]:\n",
        "            return False\n",
        "    return True\n",
        "\n",
        "def bogosort(arr):\n",
        "    while not is_sorted(arr):\n",
        "        random.shuffle(arr)"
      ],
      "metadata": {
        "id": "PYAvOCpQKWsU"
      },
      "execution_count": null,
      "outputs": []
    },
    {
      "cell_type": "markdown",
      "source": [
        "# **2. Generating Test Cases and Measuring Execution Time**"
      ],
      "metadata": {
        "id": "l9MCz3oXK61t"
      }
    },
    {
      "cell_type": "code",
      "source": [
        "import random\n",
        "import time\n",
        "import pandas as pd\n",
        "\n",
        "def generate_random_array(size):\n",
        "    return [random.randint(1, 10000) for _ in range(size)]\n",
        "\n",
        "def measure_time(sort_func, arr):\n",
        "    start = time.time()\n",
        "    sort_func(arr)\n",
        "    end = time.time()\n",
        "    return end - start\n",
        "\n",
        "# Test arrays of different sizes\n",
        "small_array = generate_random_array(10)\n",
        "medium_array = generate_random_array(1000)\n",
        "large_array = generate_random_array(10000)\n",
        "\n",
        "sort_functions = [radix_sort, quicksort_wrapper, heapsort, timsort]\n",
        "\n",
        "def modified_testing_code():\n",
        "    # Create dictionaries to store execution times for each array size\n",
        "    execution_times_small = {sort.__name__: [] for sort in sort_functions}\n",
        "    execution_times_medium = {sort.__name__: [] for sort in sort_functions}\n",
        "    execution_times_large = {sort.__name__: [] for sort in sort_functions}\n",
        "\n",
        "    # Test each sorting algorithm\n",
        "    for sort in sort_functions:\n",
        "        for _ in range(3):\n",
        "            execution_times_small[sort.__name__].append(measure_time(sort, small_array.copy()))\n",
        "            execution_times_medium[sort.__name__].append(measure_time(sort, medium_array.copy()))\n",
        "            execution_times_large[sort.__name__].append(measure_time(sort, large_array.copy()))\n",
        "\n",
        "    return execution_times_small, execution_times_medium, execution_times_large\n",
        "\n",
        "# Create Pandas DataFrames\n",
        "def create_pandas_table(execution_times):\n",
        "    df = pd.DataFrame(execution_times).T\n",
        "    df.columns = ['Run 1', 'Run 2', 'Run 3']\n",
        "    df['Average'] = df.mean(axis=1)\n",
        "    return df\n",
        "\n",
        "# Execute the modified testing code\n",
        "execution_times_small, execution_times_medium, execution_times_large = modified_testing_code()\n",
        "\n",
        "# Create and print Pandas DataFrames\n",
        "df_small = create_pandas_table(execution_times_small)\n",
        "df_medium = create_pandas_table(execution_times_medium)\n",
        "df_large = create_pandas_table(execution_times_large)\n",
        "\n",
        "print(\"Execution Times for Small Array (seconds):\")\n",
        "print(df_small)\n",
        "print(\"\\nExecution Times for Medium Array (seconds):\")\n",
        "print(df_medium)\n",
        "print(\"\\nExecution Times for Large Array (seconds):\")\n",
        "print(df_large)\n"
      ],
      "metadata": {
        "colab": {
          "base_uri": "https://localhost:8080/"
        },
        "id": "ZBJHSy0zPiPK",
        "outputId": "51b65760-c497-4236-a554-a692357c4037"
      },
      "execution_count": null,
      "outputs": [
        {
          "output_type": "stream",
          "name": "stdout",
          "text": [
            "Execution Times for Small Array (seconds):\n",
            "                      Run 1     Run 2     Run 3   Average\n",
            "radix_sort         0.000046  0.000043  0.000041  0.000043\n",
            "quicksort_wrapper  0.000041  0.000019  0.000025  0.000028\n",
            "heapsort           0.000023  0.000021  0.000019  0.000021\n",
            "timsort            0.000019  0.000015  0.000022  0.000019\n",
            "\n",
            "Execution Times for Medium Array (seconds):\n",
            "                      Run 1     Run 2     Run 3   Average\n",
            "radix_sort         0.002194  0.002228  0.002170  0.002197\n",
            "quicksort_wrapper  0.002049  0.002044  0.002532  0.002208\n",
            "heapsort           0.004772  0.004790  0.006347  0.005303\n",
            "timsort            0.004309  0.004098  0.004239  0.004215\n",
            "\n",
            "Execution Times for Large Array (seconds):\n",
            "                      Run 1     Run 2     Run 3   Average\n",
            "radix_sort         0.029760  0.023223  0.022144  0.025042\n",
            "quicksort_wrapper  0.026616  0.037908  0.027788  0.030770\n",
            "heapsort           0.075790  0.069834  0.073423  0.073016\n",
            "timsort            0.057457  0.056123  0.048996  0.054192\n"
          ]
        }
      ]
    },
    {
      "cell_type": "markdown",
      "source": [
        "We initially tested our code using the Bogosort algorithm to sort arrays. The code encountered an error stating that 'the program fell into an infinite loop and could not complete.' This is because Bogosort is an extremely inefficient sorting algorithm. When dealing with larger unsorted arrays, it may take a very long time or even get stuck in an infinite loop. Therefore, Bogosort is not suitable for practical sorting tasks. Hence, we decided to test the Bogosort algorithm separately."
      ],
      "metadata": {
        "id": "4xNL7wTYRILh"
      }
    },
    {
      "cell_type": "code",
      "source": [
        "import random\n",
        "import time\n",
        "import pandas as pd\n",
        "\n",
        "def generate_random_array(size):\n",
        "    return [random.randint(1, 10000) for _ in range(size)]\n",
        "\n",
        "def measure_time(sort_func, arr):\n",
        "    start = time.time()\n",
        "    sort_func(arr)\n",
        "    end = time.time()\n",
        "    return end - start\n",
        "\n",
        "def is_sorted(arr):\n",
        "    n = len(arr)\n",
        "    for i in range(0, n-1):\n",
        "        if arr[i] > arr[i+1]:\n",
        "            return False\n",
        "    return True\n",
        "\n",
        "def bogosort(arr):\n",
        "    while not is_sorted(arr):\n",
        "        random.shuffle(arr)\n",
        "\n",
        "def test_bogosort_small():\n",
        "    small_array = generate_random_array(5)\n",
        "    execution_times_bogosort_small = []\n",
        "    for _ in range(3):\n",
        "        execution_times_bogosort_small.append(measure_time(bogosort, small_array.copy()))\n",
        "    return execution_times_bogosort_small\n",
        "\n",
        "execution_times_bogosort_small = test_bogosort_small()\n",
        "\n",
        "df_bogosort_small = pd.DataFrame([execution_times_bogosort_small], columns=['Run 1', 'Run 2', 'Run 3'])\n",
        "df_bogosort_small['Average'] = df_bogosort_small.mean(axis=1)\n",
        "print(\"Execution Times for Bogosort on Small Array (5 elements):\")\n",
        "print(df_bogosort_small)\n"
      ],
      "metadata": {
        "colab": {
          "base_uri": "https://localhost:8080/"
        },
        "id": "Rii1XTKfTUiB",
        "outputId": "7e114e9b-b803-4742-8d88-5200c7c6c288"
      },
      "execution_count": null,
      "outputs": [
        {
          "output_type": "stream",
          "name": "stdout",
          "text": [
            "Execution Times for Bogosort on Small Array (5 elements):\n",
            "     Run 1     Run 2     Run 3   Average\n",
            "0  0.00028  0.001404  0.000125  0.000603\n"
          ]
        }
      ]
    },
    {
      "cell_type": "code",
      "source": [
        "def test_bogosort_medium():\n",
        "    medium_array = generate_random_array(8)\n",
        "    execution_times_bogosort_medium = []\n",
        "    for _ in range(3):\n",
        "        execution_times_bogosort_medium.append(measure_time(bogosort, medium_array.copy()))\n",
        "    return execution_times_bogosort_medium\n",
        "\n",
        "execution_times_bogosort_medium = test_bogosort_medium()\n",
        "\n",
        "df_bogosort_medium = pd.DataFrame([execution_times_bogosort_medium], columns=['Run 1', 'Run 2', 'Run 3'])\n",
        "df_bogosort_medium['Average'] = df_bogosort_medium.mean(axis=1)\n",
        "print(\"Execution Times for Bogosort on Medium Array (8 elements):\")\n",
        "print(df_bogosort_medium)\n"
      ],
      "metadata": {
        "colab": {
          "base_uri": "https://localhost:8080/"
        },
        "id": "ALZE8zcCT22j",
        "outputId": "5b320234-15dc-40f6-e2cb-9de7868dadcc"
      },
      "execution_count": null,
      "outputs": [
        {
          "output_type": "stream",
          "name": "stdout",
          "text": [
            "Execution Times for Bogosort on Medium Array (8 elements):\n",
            "      Run 1     Run 2     Run 3   Average\n",
            "0  1.735761  0.056235  0.166667  0.652888\n"
          ]
        }
      ]
    },
    {
      "cell_type": "code",
      "source": [
        "def test_bogosort_large():\n",
        "    large_array = generate_random_array(10)\n",
        "    execution_times_bogosort_large = []\n",
        "    for _ in range(3):\n",
        "        execution_times_bogosort_large.append(measure_time(bogosort, large_array.copy()))\n",
        "    return execution_times_bogosort_large\n",
        "\n",
        "execution_times_bogosort_large = test_bogosort_large()\n",
        "\n",
        "df_bogosort_large = pd.DataFrame([execution_times_bogosort_large], columns=['Run 1', 'Run 2', 'Run 3'])\n",
        "df_bogosort_large['Average'] = df_bogosort_large.mean(axis=1)\n",
        "print(\"Execution Times for Bogosort on Large Array (10 elements):\")\n",
        "print(df_bogosort_large)\n",
        "\n"
      ],
      "metadata": {
        "colab": {
          "base_uri": "https://localhost:8080/"
        },
        "id": "5bH1Ul7vUfd-",
        "outputId": "3ce8c341-26d2-4935-ba68-d0e9b289cf2a"
      },
      "execution_count": null,
      "outputs": [
        {
          "output_type": "stream",
          "name": "stdout",
          "text": [
            "Execution Times for Bogosort on Large Array (10 elements):\n",
            "      Run 1      Run 2    Run 3   Average\n",
            "0  5.223082  11.059691  4.36309  6.881954\n"
          ]
        }
      ]
    },
    {
      "cell_type": "code",
      "source": [
        "# Import necessary libraries\n",
        "import pandas as pd\n",
        "\n",
        "# Save the test results to an Excel file\n",
        "with pd.ExcelWriter('sorting_test_results.xlsx') as writer:\n",
        "    df_small.to_excel(writer, sheet_name='Small Array (10 elements)')\n",
        "    df_medium.to_excel(writer, sheet_name='Medium Array (1000 elements)')\n",
        "    df_large.to_excel(writer, sheet_name='Large Array (10000 elements)')\n",
        "\n",
        "    # Each test result for Bogosort has the array size in its header\n",
        "    for size, df in zip(['5', '8', '10'], [df_bogosort_small, df_bogosort_medium, df_bogosort_large]):\n",
        "        df.to_excel(writer, sheet_name=f'Bogosort Array ({size} elements)')\n",
        "\n",
        "print(\"Test results saved to 'sorting_test_results.xlsx'\")\n",
        "from google.colab import files\n",
        "files.download('sorting_test_results.xlsx')"
      ],
      "metadata": {
        "colab": {
          "base_uri": "https://localhost:8080/",
          "height": 53
        },
        "id": "m5vGR2GPRGAl",
        "outputId": "ed776b91-fae4-4d91-f800-2013fc8cb6c9"
      },
      "execution_count": null,
      "outputs": [
        {
          "output_type": "stream",
          "name": "stdout",
          "text": [
            "Test results saved to 'sorting_test_results.xlsx'\n"
          ]
        },
        {
          "output_type": "display_data",
          "data": {
            "text/plain": [
              "<IPython.core.display.Javascript object>"
            ],
            "application/javascript": [
              "\n",
              "    async function download(id, filename, size) {\n",
              "      if (!google.colab.kernel.accessAllowed) {\n",
              "        return;\n",
              "      }\n",
              "      const div = document.createElement('div');\n",
              "      const label = document.createElement('label');\n",
              "      label.textContent = `Downloading \"${filename}\": `;\n",
              "      div.appendChild(label);\n",
              "      const progress = document.createElement('progress');\n",
              "      progress.max = size;\n",
              "      div.appendChild(progress);\n",
              "      document.body.appendChild(div);\n",
              "\n",
              "      const buffers = [];\n",
              "      let downloaded = 0;\n",
              "\n",
              "      const channel = await google.colab.kernel.comms.open(id);\n",
              "      // Send a message to notify the kernel that we're ready.\n",
              "      channel.send({})\n",
              "\n",
              "      for await (const message of channel.messages) {\n",
              "        // Send a message to notify the kernel that we're ready.\n",
              "        channel.send({})\n",
              "        if (message.buffers) {\n",
              "          for (const buffer of message.buffers) {\n",
              "            buffers.push(buffer);\n",
              "            downloaded += buffer.byteLength;\n",
              "            progress.value = downloaded;\n",
              "          }\n",
              "        }\n",
              "      }\n",
              "      const blob = new Blob(buffers, {type: 'application/binary'});\n",
              "      const a = document.createElement('a');\n",
              "      a.href = window.URL.createObjectURL(blob);\n",
              "      a.download = filename;\n",
              "      div.appendChild(a);\n",
              "      a.click();\n",
              "      div.remove();\n",
              "    }\n",
              "  "
            ]
          },
          "metadata": {}
        },
        {
          "output_type": "display_data",
          "data": {
            "text/plain": [
              "<IPython.core.display.Javascript object>"
            ],
            "application/javascript": [
              "download(\"download_1d861de3-86ac-4a95-87ba-599d24809f66\", \"sorting_test_results.xlsx\", 8612)"
            ]
          },
          "metadata": {}
        }
      ]
    }
  ]
}